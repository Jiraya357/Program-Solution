{
  "nbformat": 4,
  "nbformat_minor": 0,
  "metadata": {
    "colab": {
      "provenance": []
    },
    "kernelspec": {
      "name": "python3",
      "display_name": "Python 3"
    },
    "language_info": {
      "name": "python"
    }
  },
  "cells": [
    {
      "cell_type": "code",
      "execution_count": null,
      "metadata": {
        "id": "Hek2b3BfVuWW"
      },
      "outputs": [],
      "source": [
        "'''\n",
        "1. \n",
        "\n",
        "   Write a Python program to calculate the length of a string.\n",
        "   \n",
        "'''\n",
        "\n",
        "def len_string(a):\n",
        "  return len(a)"
      ]
    },
    {
      "cell_type": "code",
      "source": [
        "len_string(\"Vishal\")"
      ],
      "metadata": {
        "colab": {
          "base_uri": "https://localhost:8080/"
        },
        "id": "M83DSbwNV5E_",
        "outputId": "be80ce13-7aeb-4b4a-fadf-51e6b897c55a"
      },
      "execution_count": null,
      "outputs": [
        {
          "output_type": "execute_result",
          "data": {
            "text/plain": [
              "6"
            ]
          },
          "metadata": {},
          "execution_count": 4
        }
      ]
    },
    {
      "cell_type": "code",
      "source": [
        "'''\n",
        "3.\n",
        "      Write a Python program to get a string made of the first 2 and the last 2 chars from a given a string. \n",
        "      \n",
        "      If the string length is less than 2, return instead of the empty string.\n",
        "\n",
        "      Sample String : 'w3resource'\n",
        "      Expected Result : 'w3ce'\n",
        "      Sample String : 'w3'\n",
        "      Expected Result : 'w3w3'\n",
        "      Sample String : ' w'\n",
        "      Expected Result : Empty String\n",
        "      \n",
        "      '''"
      ],
      "metadata": {
        "id": "rtAaRYJJWDni"
      },
      "execution_count": null,
      "outputs": []
    },
    {
      "cell_type": "code",
      "source": [
        "def concat(b):\n",
        "  c = len(b)\n",
        "  str1 = \"\"\n",
        "  str2 = \"\"\n",
        "  emp = \"\"\n",
        "  if c > 1:\n",
        "\n",
        "    for i in range(0, 2):\n",
        "      str1 += b[i]\n",
        "    for j in range(c-2, c):\n",
        "      str2 += b[j]\n",
        "    \n",
        "    return str1+str2\n",
        "\n",
        "  else:\n",
        "    return emp\n",
        "\n",
        "\n",
        "\n"
      ],
      "metadata": {
        "id": "mBa_oN3nWtzS"
      },
      "execution_count": null,
      "outputs": []
    },
    {
      "cell_type": "code",
      "source": [
        "concat(\"w\")"
      ],
      "metadata": {
        "colab": {
          "base_uri": "https://localhost:8080/",
          "height": 36
        },
        "id": "IGd7qmLIYXCx",
        "outputId": "77605b73-4057-4b6c-c487-fe893c543f5a"
      },
      "execution_count": null,
      "outputs": [
        {
          "output_type": "execute_result",
          "data": {
            "text/plain": [
              "''"
            ],
            "application/vnd.google.colaboratory.intrinsic+json": {
              "type": "string"
            }
          },
          "metadata": {},
          "execution_count": 18
        }
      ]
    },
    {
      "cell_type": "code",
      "source": [
        "'''\n",
        "4. \n",
        "\n",
        "  Write a Python program to get a string from a given string where all occurrences of its first char have been changed to '$', \n",
        "\n",
        "   except the first char itself.\n",
        "   \n",
        "  Sample String : 'restart'\n",
        "  Expected Result : 'resta$t'\n",
        "  \n",
        "  '''"
      ],
      "metadata": {
        "id": "klA8kpXSZJ6A"
      },
      "execution_count": null,
      "outputs": []
    },
    {
      "cell_type": "code",
      "source": [
        "def replace_string(a):\n",
        "  b = a[0]\n",
        "  c = \"\"\n",
        "  a = a.replace(b, \"$\")\n",
        "  for i in range(1, len(a)):\n",
        "    c += a[i]\n",
        "\n",
        "  return b+c\n"
      ],
      "metadata": {
        "id": "cmPkTSPKanTJ"
      },
      "execution_count": null,
      "outputs": []
    },
    {
      "cell_type": "code",
      "source": [
        "replace_string(\"mammal\")"
      ],
      "metadata": {
        "colab": {
          "base_uri": "https://localhost:8080/",
          "height": 36
        },
        "id": "flcWjVNWeCYA",
        "outputId": "15553e07-4793-4730-aa79-42ec53e13dbc"
      },
      "execution_count": null,
      "outputs": [
        {
          "output_type": "execute_result",
          "data": {
            "text/plain": [
              "'ma$$al'"
            ],
            "application/vnd.google.colaboratory.intrinsic+json": {
              "type": "string"
            }
          },
          "metadata": {},
          "execution_count": 33
        }
      ]
    },
    {
      "cell_type": "code",
      "source": [
        "'''\n",
        "5.\n",
        "   Write a Python program to get a single string from two given strings, separated by a space and swap the first two characters of each string.\n",
        "\n",
        "   Sample String : 'abc', 'xyz'\n",
        "   Expected Result : 'xyc abz' \n",
        "   \n",
        "   '''"
      ],
      "metadata": {
        "id": "ihG5vavPhGhQ"
      },
      "execution_count": null,
      "outputs": []
    },
    {
      "cell_type": "code",
      "source": [
        "def single_string(str1, str2):\n",
        "  a = str1[0] + str1[1]\n",
        "  b = str2[0] + str2[1]\n",
        "  c = b + str1[2:] + \" \" + a + str2[2:]\n",
        "  return c\n"
      ],
      "metadata": {
        "id": "FL5DqasMiEAv"
      },
      "execution_count": null,
      "outputs": []
    },
    {
      "cell_type": "code",
      "source": [
        "single_string(\"muskan\", \"vijay\")"
      ],
      "metadata": {
        "colab": {
          "base_uri": "https://localhost:8080/",
          "height": 36
        },
        "id": "jgrmR3lAkO5e",
        "outputId": "a9d26474-e6f7-4167-a54d-64bf0fc865d3"
      },
      "execution_count": null,
      "outputs": [
        {
          "output_type": "execute_result",
          "data": {
            "text/plain": [
              "'viskan mujay'"
            ],
            "application/vnd.google.colaboratory.intrinsic+json": {
              "type": "string"
            }
          },
          "metadata": {},
          "execution_count": 42
        }
      ]
    },
    {
      "cell_type": "code",
      "source": [
        "'''\n",
        " 6.\n",
        "    Write a Python program to add 'ing' at the end of a given string (length should be at least 3). If the given string already ends with 'ing' then add 'ly' instead. \n",
        "    If the string length of the given string is less than 3, leave it unchanged.\n",
        "    Sample String : 'abc'\n",
        "    Expected Result : 'abcing'\n",
        "    Sample String : 'string'\n",
        "    Expected Result : 'stringly'\n",
        "\n",
        "'''"
      ],
      "metadata": {
        "id": "uiPWkGVilCgb"
      },
      "execution_count": null,
      "outputs": []
    },
    {
      "cell_type": "code",
      "source": [
        "def add_string(a):\n",
        "  b = \"ing\"\n",
        "  if a[-3:] == b:\n",
        "    c = a + \"ly\"\n",
        "\n",
        "  else:\n",
        "    c = a + b\n",
        "  \n",
        "  return c"
      ],
      "metadata": {
        "id": "zMFq4os-l6Ji"
      },
      "execution_count": null,
      "outputs": []
    },
    {
      "cell_type": "code",
      "source": [
        "add_string(\"fucking\")"
      ],
      "metadata": {
        "colab": {
          "base_uri": "https://localhost:8080/",
          "height": 36
        },
        "id": "-SrMX1Xtmxqg",
        "outputId": "0b14b0dd-a8f4-4eb2-96c9-f10c6c9872af"
      },
      "execution_count": 50,
      "outputs": [
        {
          "output_type": "execute_result",
          "data": {
            "text/plain": [
              "'fuckingly'"
            ],
            "application/vnd.google.colaboratory.intrinsic+json": {
              "type": "string"
            }
          },
          "metadata": {},
          "execution_count": 50
        }
      ]
    },
    {
      "cell_type": "code",
      "source": [
        "''' \n",
        "7. \n",
        "   Write a Python program to find the first appearance of the substring 'not' and 'poor' from a given string, \n",
        "   \n",
        "   if 'not' follows the 'poor', replace the whole 'not'...'poor' substring with 'good'. \n",
        "\n",
        "   Return the resulting string.\n",
        "\n",
        "   Sample String : 'The lyrics is not that poor!'\n",
        "                  'The lyrics is poor!'\n",
        "   Expected Result : 'The lyrics is good!'\n",
        "                     'The lyrics is poor!'\n",
        "\n",
        "'''"
      ],
      "metadata": {
        "id": "s5m-qnGFm8XZ"
      },
      "execution_count": null,
      "outputs": []
    },
    {
      "cell_type": "code",
      "source": [
        "def notpoor_good(a):\n",
        "    \n",
        "    b = a.find(\"not\")\n",
        "    c = a.find(\"poor\")\n",
        "    d = a[b:c+4]\n",
        "    if b < c and b > 0 and c > 0:\n",
        "        a = a.replace(d, \"good\")\n",
        "        return a\n",
        "    else:\n",
        "        return a"
      ],
      "metadata": {
        "id": "lP6HsdYE95bq"
      },
      "execution_count": null,
      "outputs": []
    },
    {
      "cell_type": "code",
      "source": [
        "notpoor_good(\"The lyrics is not that poor\")"
      ],
      "metadata": {
        "colab": {
          "base_uri": "https://localhost:8080/",
          "height": 36
        },
        "id": "AN0iywuP_bTl",
        "outputId": "066c77fc-193a-483f-eb86-446440ecc649"
      },
      "execution_count": null,
      "outputs": [
        {
          "output_type": "execute_result",
          "data": {
            "text/plain": [
              "'The lyrics is good'"
            ],
            "application/vnd.google.colaboratory.intrinsic+json": {
              "type": "string"
            }
          },
          "metadata": {},
          "execution_count": 23
        }
      ]
    },
    {
      "cell_type": "code",
      "source": [
        "'''\n",
        "10. Write a Python program to change a given string to a new string where the first and last chars have been exchanged.\n",
        "\n",
        "'''"
      ],
      "metadata": {
        "id": "qvzXMRgxBwvk"
      },
      "execution_count": null,
      "outputs": []
    },
    {
      "cell_type": "code",
      "source": [
        "def exchange_string(a):\n",
        "   b = a[0]\n",
        "   c = a[-1]\n",
        "   d = c + a[1:-1] + b\n",
        "   return d\n"
      ],
      "metadata": {
        "id": "lrWwzHVyCMZp"
      },
      "execution_count": null,
      "outputs": []
    },
    {
      "cell_type": "code",
      "source": [
        "exchange_string(\"Komal\")"
      ],
      "metadata": {
        "colab": {
          "base_uri": "https://localhost:8080/",
          "height": 36
        },
        "id": "sYGNfltCFyTr",
        "outputId": "065b8e72-b3b1-46a7-b2d5-c639790151f9"
      },
      "execution_count": null,
      "outputs": [
        {
          "output_type": "execute_result",
          "data": {
            "text/plain": [
              "'lomaK'"
            ],
            "application/vnd.google.colaboratory.intrinsic+json": {
              "type": "string"
            }
          },
          "metadata": {},
          "execution_count": 28
        }
      ]
    },
    {
      "cell_type": "code",
      "source": [
        "''' \n",
        "9. \n",
        "     Write a Python program to remove the nth index character from a nonempty string.\n",
        "\n",
        "'''"
      ],
      "metadata": {
        "colab": {
          "base_uri": "https://localhost:8080/",
          "height": 36
        },
        "id": "moJ7pr_5F-UI",
        "outputId": "0cb6fbeb-81a4-43ad-9451-ef5c9c5da84b"
      },
      "execution_count": null,
      "outputs": [
        {
          "output_type": "execute_result",
          "data": {
            "text/plain": [
              "' \\n9. \\n     Write a Python program to remove the nth index character from a nonempty string.\\n\\n'"
            ],
            "application/vnd.google.colaboratory.intrinsic+json": {
              "type": "string"
            }
          },
          "metadata": {},
          "execution_count": 30
        }
      ]
    },
    {
      "cell_type": "code",
      "source": [
        "def remove_char(a, n):\n",
        "  b = len(a)\n",
        "  for i in range(b):\n",
        "    if i == n and n < b:\n",
        "      a = a.replace(a[i], \"\")\n",
        "      return a\n",
        "  if n > len(a):\n",
        "    return a"
      ],
      "metadata": {
        "id": "k9_JOVttGybZ"
      },
      "execution_count": null,
      "outputs": []
    },
    {
      "cell_type": "code",
      "source": [
        "remove_char(\"Python\", 5)"
      ],
      "metadata": {
        "colab": {
          "base_uri": "https://localhost:8080/",
          "height": 36
        },
        "id": "Auf69--sHwDm",
        "outputId": "a6507a44-7212-4310-bb6e-dfff4570eb88"
      },
      "execution_count": null,
      "outputs": [
        {
          "output_type": "execute_result",
          "data": {
            "text/plain": [
              "'Pytho'"
            ],
            "application/vnd.google.colaboratory.intrinsic+json": {
              "type": "string"
            }
          },
          "metadata": {},
          "execution_count": 41
        }
      ]
    },
    {
      "cell_type": "code",
      "source": [
        "''' \n",
        "12. \n",
        "    Write a Python program to count the occurrences of each word in a given sentence.\n",
        "    \n",
        "'''"
      ],
      "metadata": {
        "id": "FHVgYOZzMuj2"
      },
      "execution_count": null,
      "outputs": []
    },
    {
      "cell_type": "code",
      "source": [
        "def count_occurence(a):\n",
        "    b = a.split(\" \")\n",
        "    c = set(b)\n",
        "    d = {}\n",
        "    for i in b:\n",
        "        d[i] = a.count(i)\n",
        "      \n",
        "    return d"
      ],
      "metadata": {
        "id": "AAkhY_W6OPpB"
      },
      "execution_count": null,
      "outputs": []
    },
    {
      "cell_type": "code",
      "source": [
        "count_occurence(\"the quick brown fox jumps over the lazy dog.\")"
      ],
      "metadata": {
        "colab": {
          "base_uri": "https://localhost:8080/"
        },
        "id": "IrfbAAEAS08-",
        "outputId": "0ed518c5-c0de-4538-8bb8-814db5d28966"
      },
      "execution_count": null,
      "outputs": [
        {
          "output_type": "execute_result",
          "data": {
            "text/plain": [
              "{'the': 2,\n",
              " 'quick': 1,\n",
              " 'brown': 1,\n",
              " 'fox': 1,\n",
              " 'jumps': 1,\n",
              " 'over': 1,\n",
              " 'lazy': 1,\n",
              " 'dog.': 1}"
            ]
          },
          "metadata": {},
          "execution_count": 45
        }
      ]
    },
    {
      "cell_type": "code",
      "source": [
        "''' \n",
        "13.\n",
        "     Write a Python script that takes input from the user and displays that input back in upper and lower cases.\n",
        "\n",
        "'''"
      ],
      "metadata": {
        "colab": {
          "base_uri": "https://localhost:8080/",
          "height": 36
        },
        "id": "UO20AkrCS9zG",
        "outputId": "f5565ebb-582b-493c-8792-431c9abeb419"
      },
      "execution_count": null,
      "outputs": [
        {
          "output_type": "execute_result",
          "data": {
            "text/plain": [
              "' \\n13.\\n     Write a Python script that takes input from the user and displays that input back in upper and lower cases.\\n\\n'"
            ],
            "application/vnd.google.colaboratory.intrinsic+json": {
              "type": "string"
            }
          },
          "metadata": {},
          "execution_count": 46
        }
      ]
    },
    {
      "cell_type": "code",
      "source": [
        "a = input()\n",
        "print(a.upper())\n",
        "print(a.lower())"
      ],
      "metadata": {
        "colab": {
          "base_uri": "https://localhost:8080/"
        },
        "id": "Z2k88bq7Td1p",
        "outputId": "6a1f129e-cd6f-494b-b218-049b1ca55f5a"
      },
      "execution_count": null,
      "outputs": [
        {
          "output_type": "stream",
          "name": "stdout",
          "text": [
            "melioDAS\n",
            "MELIODAS\n",
            "meliodas\n"
          ]
        }
      ]
    }
  ]
}